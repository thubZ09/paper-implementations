{
  "nbformat": 4,
  "nbformat_minor": 0,
  "metadata": {
    "colab": {
      "provenance": [],
      "gpuType": "T4"
    },
    "kernelspec": {
      "name": "python3",
      "display_name": "Python 3"
    },
    "language_info": {
      "name": "python"
    },
    "accelerator": "GPU"
  },
  "cells": [
    {
      "cell_type": "code",
      "execution_count": 18,
      "metadata": {
        "colab": {
          "base_uri": "https://localhost:8080/"
        },
        "id": "8Q-SkP0rxiB_",
        "outputId": "457a37e3-d817-45d5-c9bb-8ab1d230a19d"
      },
      "outputs": [
        {
          "output_type": "stream",
          "name": "stdout",
          "text": [
            "Drive already mounted at /content/drive; to attempt to forcibly remount, call drive.mount(\"/content/drive\", force_remount=True).\n",
            "Working in: /content/drive/MyDrive/ViT\n"
          ]
        }
      ],
      "source": [
        "from google.colab import drive\n",
        "drive.mount('/content/drive')\n",
        "\n",
        "import os\n",
        "import sys\n",
        "\n",
        "PROJECT_PATH = \"/content/drive/MyDrive/ViT\"\n",
        "os.makedirs(PROJECT_PATH, exist_ok=True)\n",
        "os.chdir(PROJECT_PATH)\n",
        "sys.path.insert(0, PROJECT_PATH)\n",
        "\n",
        "print(f\"Working in: {PROJECT_PATH}\")"
      ]
    },
    {
      "cell_type": "code",
      "source": [
        "!pip install torch torchvision einops matplotlib tqdm pillow\n",
        "!pip install -U numpy\n"
      ],
      "metadata": {
        "colab": {
          "base_uri": "https://localhost:8080/",
          "height": 1000
        },
        "id": "RNUU5qnYmkp5",
        "outputId": "750eca7a-7195-4eba-82a0-c2d39b402ab8"
      },
      "execution_count": 2,
      "outputs": [
        {
          "output_type": "stream",
          "name": "stdout",
          "text": [
            "Requirement already satisfied: torch in /usr/local/lib/python3.11/dist-packages (2.6.0+cu124)\n",
            "Requirement already satisfied: torchvision in /usr/local/lib/python3.11/dist-packages (0.21.0+cu124)\n",
            "Requirement already satisfied: einops in /usr/local/lib/python3.11/dist-packages (0.8.1)\n",
            "Requirement already satisfied: matplotlib in /usr/local/lib/python3.11/dist-packages (3.10.0)\n",
            "Requirement already satisfied: tqdm in /usr/local/lib/python3.11/dist-packages (4.67.1)\n",
            "Requirement already satisfied: pillow in /usr/local/lib/python3.11/dist-packages (11.2.1)\n",
            "Requirement already satisfied: filelock in /usr/local/lib/python3.11/dist-packages (from torch) (3.18.0)\n",
            "Requirement already satisfied: typing-extensions>=4.10.0 in /usr/local/lib/python3.11/dist-packages (from torch) (4.14.0)\n",
            "Requirement already satisfied: networkx in /usr/local/lib/python3.11/dist-packages (from torch) (3.5)\n",
            "Requirement already satisfied: jinja2 in /usr/local/lib/python3.11/dist-packages (from torch) (3.1.6)\n",
            "Requirement already satisfied: fsspec in /usr/local/lib/python3.11/dist-packages (from torch) (2025.3.2)\n",
            "Collecting nvidia-cuda-nvrtc-cu12==12.4.127 (from torch)\n",
            "  Downloading nvidia_cuda_nvrtc_cu12-12.4.127-py3-none-manylinux2014_x86_64.whl.metadata (1.5 kB)\n",
            "Collecting nvidia-cuda-runtime-cu12==12.4.127 (from torch)\n",
            "  Downloading nvidia_cuda_runtime_cu12-12.4.127-py3-none-manylinux2014_x86_64.whl.metadata (1.5 kB)\n",
            "Collecting nvidia-cuda-cupti-cu12==12.4.127 (from torch)\n",
            "  Downloading nvidia_cuda_cupti_cu12-12.4.127-py3-none-manylinux2014_x86_64.whl.metadata (1.6 kB)\n",
            "Collecting nvidia-cudnn-cu12==9.1.0.70 (from torch)\n",
            "  Downloading nvidia_cudnn_cu12-9.1.0.70-py3-none-manylinux2014_x86_64.whl.metadata (1.6 kB)\n",
            "Collecting nvidia-cublas-cu12==12.4.5.8 (from torch)\n",
            "  Downloading nvidia_cublas_cu12-12.4.5.8-py3-none-manylinux2014_x86_64.whl.metadata (1.5 kB)\n",
            "Collecting nvidia-cufft-cu12==11.2.1.3 (from torch)\n",
            "  Downloading nvidia_cufft_cu12-11.2.1.3-py3-none-manylinux2014_x86_64.whl.metadata (1.5 kB)\n",
            "Collecting nvidia-curand-cu12==10.3.5.147 (from torch)\n",
            "  Downloading nvidia_curand_cu12-10.3.5.147-py3-none-manylinux2014_x86_64.whl.metadata (1.5 kB)\n",
            "Collecting nvidia-cusolver-cu12==11.6.1.9 (from torch)\n",
            "  Downloading nvidia_cusolver_cu12-11.6.1.9-py3-none-manylinux2014_x86_64.whl.metadata (1.6 kB)\n",
            "Collecting nvidia-cusparse-cu12==12.3.1.170 (from torch)\n",
            "  Downloading nvidia_cusparse_cu12-12.3.1.170-py3-none-manylinux2014_x86_64.whl.metadata (1.6 kB)\n",
            "Requirement already satisfied: nvidia-cusparselt-cu12==0.6.2 in /usr/local/lib/python3.11/dist-packages (from torch) (0.6.2)\n",
            "Requirement already satisfied: nvidia-nccl-cu12==2.21.5 in /usr/local/lib/python3.11/dist-packages (from torch) (2.21.5)\n",
            "Requirement already satisfied: nvidia-nvtx-cu12==12.4.127 in /usr/local/lib/python3.11/dist-packages (from torch) (12.4.127)\n",
            "Collecting nvidia-nvjitlink-cu12==12.4.127 (from torch)\n",
            "  Downloading nvidia_nvjitlink_cu12-12.4.127-py3-none-manylinux2014_x86_64.whl.metadata (1.5 kB)\n",
            "Requirement already satisfied: triton==3.2.0 in /usr/local/lib/python3.11/dist-packages (from torch) (3.2.0)\n",
            "Requirement already satisfied: sympy==1.13.1 in /usr/local/lib/python3.11/dist-packages (from torch) (1.13.1)\n",
            "Requirement already satisfied: mpmath<1.4,>=1.1.0 in /usr/local/lib/python3.11/dist-packages (from sympy==1.13.1->torch) (1.3.0)\n",
            "Requirement already satisfied: numpy in /usr/local/lib/python3.11/dist-packages (from torchvision) (2.0.2)\n",
            "Requirement already satisfied: contourpy>=1.0.1 in /usr/local/lib/python3.11/dist-packages (from matplotlib) (1.3.2)\n",
            "Requirement already satisfied: cycler>=0.10 in /usr/local/lib/python3.11/dist-packages (from matplotlib) (0.12.1)\n",
            "Requirement already satisfied: fonttools>=4.22.0 in /usr/local/lib/python3.11/dist-packages (from matplotlib) (4.58.4)\n",
            "Requirement already satisfied: kiwisolver>=1.3.1 in /usr/local/lib/python3.11/dist-packages (from matplotlib) (1.4.8)\n",
            "Requirement already satisfied: packaging>=20.0 in /usr/local/lib/python3.11/dist-packages (from matplotlib) (24.2)\n",
            "Requirement already satisfied: pyparsing>=2.3.1 in /usr/local/lib/python3.11/dist-packages (from matplotlib) (3.2.3)\n",
            "Requirement already satisfied: python-dateutil>=2.7 in /usr/local/lib/python3.11/dist-packages (from matplotlib) (2.9.0.post0)\n",
            "Requirement already satisfied: six>=1.5 in /usr/local/lib/python3.11/dist-packages (from python-dateutil>=2.7->matplotlib) (1.17.0)\n",
            "Requirement already satisfied: MarkupSafe>=2.0 in /usr/local/lib/python3.11/dist-packages (from jinja2->torch) (3.0.2)\n",
            "Downloading nvidia_cublas_cu12-12.4.5.8-py3-none-manylinux2014_x86_64.whl (363.4 MB)\n",
            "\u001b[2K   \u001b[90m━━━━━━━━━━━━━━━━━━━━━━━━━━━━━━━━━━━━━━━━\u001b[0m \u001b[32m363.4/363.4 MB\u001b[0m \u001b[31m4.6 MB/s\u001b[0m eta \u001b[36m0:00:00\u001b[0m\n",
            "\u001b[?25hDownloading nvidia_cuda_cupti_cu12-12.4.127-py3-none-manylinux2014_x86_64.whl (13.8 MB)\n",
            "\u001b[2K   \u001b[90m━━━━━━━━━━━━━━━━━━━━━━━━━━━━━━━━━━━━━━━━\u001b[0m \u001b[32m13.8/13.8 MB\u001b[0m \u001b[31m121.6 MB/s\u001b[0m eta \u001b[36m0:00:00\u001b[0m\n",
            "\u001b[?25hDownloading nvidia_cuda_nvrtc_cu12-12.4.127-py3-none-manylinux2014_x86_64.whl (24.6 MB)\n",
            "\u001b[2K   \u001b[90m━━━━━━━━━━━━━━━━━━━━━━━━━━━━━━━━━━━━━━━━\u001b[0m \u001b[32m24.6/24.6 MB\u001b[0m \u001b[31m94.0 MB/s\u001b[0m eta \u001b[36m0:00:00\u001b[0m\n",
            "\u001b[?25hDownloading nvidia_cuda_runtime_cu12-12.4.127-py3-none-manylinux2014_x86_64.whl (883 kB)\n",
            "\u001b[2K   \u001b[90m━━━━━━━━━━━━━━━━━━━━━━━━━━━━━━━━━━━━━━━━\u001b[0m \u001b[32m883.7/883.7 kB\u001b[0m \u001b[31m57.9 MB/s\u001b[0m eta \u001b[36m0:00:00\u001b[0m\n",
            "\u001b[?25hDownloading nvidia_cudnn_cu12-9.1.0.70-py3-none-manylinux2014_x86_64.whl (664.8 MB)\n",
            "\u001b[2K   \u001b[90m━━━━━━━━━━━━━━━━━━━━━━━━━━━━━━━━━━━━━━━━\u001b[0m \u001b[32m664.8/664.8 MB\u001b[0m \u001b[31m2.8 MB/s\u001b[0m eta \u001b[36m0:00:00\u001b[0m\n",
            "\u001b[?25hDownloading nvidia_cufft_cu12-11.2.1.3-py3-none-manylinux2014_x86_64.whl (211.5 MB)\n",
            "\u001b[2K   \u001b[90m━━━━━━━━━━━━━━━━━━━━━━━━━━━━━━━━━━━━━━━━\u001b[0m \u001b[32m211.5/211.5 MB\u001b[0m \u001b[31m6.9 MB/s\u001b[0m eta \u001b[36m0:00:00\u001b[0m\n",
            "\u001b[?25hDownloading nvidia_curand_cu12-10.3.5.147-py3-none-manylinux2014_x86_64.whl (56.3 MB)\n",
            "\u001b[2K   \u001b[90m━━━━━━━━━━━━━━━━━━━━━━━━━━━━━━━━━━━━━━━━\u001b[0m \u001b[32m56.3/56.3 MB\u001b[0m \u001b[31m13.3 MB/s\u001b[0m eta \u001b[36m0:00:00\u001b[0m\n",
            "\u001b[?25hDownloading nvidia_cusolver_cu12-11.6.1.9-py3-none-manylinux2014_x86_64.whl (127.9 MB)\n",
            "\u001b[2K   \u001b[90m━━━━━━━━━━━━━━━━━━━━━━━━━━━━━━━━━━━━━━━━\u001b[0m \u001b[32m127.9/127.9 MB\u001b[0m \u001b[31m7.4 MB/s\u001b[0m eta \u001b[36m0:00:00\u001b[0m\n",
            "\u001b[?25hDownloading nvidia_cusparse_cu12-12.3.1.170-py3-none-manylinux2014_x86_64.whl (207.5 MB)\n",
            "\u001b[2K   \u001b[90m━━━━━━━━━━━━━━━━━━━━━━━━━━━━━━━━━━━━━━━━\u001b[0m \u001b[32m207.5/207.5 MB\u001b[0m \u001b[31m5.2 MB/s\u001b[0m eta \u001b[36m0:00:00\u001b[0m\n",
            "\u001b[?25hDownloading nvidia_nvjitlink_cu12-12.4.127-py3-none-manylinux2014_x86_64.whl (21.1 MB)\n",
            "\u001b[2K   \u001b[90m━━━━━━━━━━━━━━━━━━━━━━━━━━━━━━━━━━━━━━━━\u001b[0m \u001b[32m21.1/21.1 MB\u001b[0m \u001b[31m108.1 MB/s\u001b[0m eta \u001b[36m0:00:00\u001b[0m\n",
            "\u001b[?25hInstalling collected packages: nvidia-nvjitlink-cu12, nvidia-curand-cu12, nvidia-cufft-cu12, nvidia-cuda-runtime-cu12, nvidia-cuda-nvrtc-cu12, nvidia-cuda-cupti-cu12, nvidia-cublas-cu12, nvidia-cusparse-cu12, nvidia-cudnn-cu12, nvidia-cusolver-cu12\n",
            "  Attempting uninstall: nvidia-nvjitlink-cu12\n",
            "    Found existing installation: nvidia-nvjitlink-cu12 12.5.82\n",
            "    Uninstalling nvidia-nvjitlink-cu12-12.5.82:\n",
            "      Successfully uninstalled nvidia-nvjitlink-cu12-12.5.82\n",
            "  Attempting uninstall: nvidia-curand-cu12\n",
            "    Found existing installation: nvidia-curand-cu12 10.3.6.82\n",
            "    Uninstalling nvidia-curand-cu12-10.3.6.82:\n",
            "      Successfully uninstalled nvidia-curand-cu12-10.3.6.82\n",
            "  Attempting uninstall: nvidia-cufft-cu12\n",
            "    Found existing installation: nvidia-cufft-cu12 11.2.3.61\n",
            "    Uninstalling nvidia-cufft-cu12-11.2.3.61:\n",
            "      Successfully uninstalled nvidia-cufft-cu12-11.2.3.61\n",
            "  Attempting uninstall: nvidia-cuda-runtime-cu12\n",
            "    Found existing installation: nvidia-cuda-runtime-cu12 12.5.82\n",
            "    Uninstalling nvidia-cuda-runtime-cu12-12.5.82:\n",
            "      Successfully uninstalled nvidia-cuda-runtime-cu12-12.5.82\n",
            "  Attempting uninstall: nvidia-cuda-nvrtc-cu12\n",
            "    Found existing installation: nvidia-cuda-nvrtc-cu12 12.5.82\n",
            "    Uninstalling nvidia-cuda-nvrtc-cu12-12.5.82:\n",
            "      Successfully uninstalled nvidia-cuda-nvrtc-cu12-12.5.82\n",
            "  Attempting uninstall: nvidia-cuda-cupti-cu12\n",
            "    Found existing installation: nvidia-cuda-cupti-cu12 12.5.82\n",
            "    Uninstalling nvidia-cuda-cupti-cu12-12.5.82:\n",
            "      Successfully uninstalled nvidia-cuda-cupti-cu12-12.5.82\n",
            "  Attempting uninstall: nvidia-cublas-cu12\n",
            "    Found existing installation: nvidia-cublas-cu12 12.5.3.2\n",
            "    Uninstalling nvidia-cublas-cu12-12.5.3.2:\n",
            "      Successfully uninstalled nvidia-cublas-cu12-12.5.3.2\n",
            "  Attempting uninstall: nvidia-cusparse-cu12\n",
            "    Found existing installation: nvidia-cusparse-cu12 12.5.1.3\n",
            "    Uninstalling nvidia-cusparse-cu12-12.5.1.3:\n",
            "      Successfully uninstalled nvidia-cusparse-cu12-12.5.1.3\n",
            "  Attempting uninstall: nvidia-cudnn-cu12\n",
            "    Found existing installation: nvidia-cudnn-cu12 9.3.0.75\n",
            "    Uninstalling nvidia-cudnn-cu12-9.3.0.75:\n",
            "      Successfully uninstalled nvidia-cudnn-cu12-9.3.0.75\n",
            "  Attempting uninstall: nvidia-cusolver-cu12\n",
            "    Found existing installation: nvidia-cusolver-cu12 11.6.3.83\n",
            "    Uninstalling nvidia-cusolver-cu12-11.6.3.83:\n",
            "      Successfully uninstalled nvidia-cusolver-cu12-11.6.3.83\n",
            "Successfully installed nvidia-cublas-cu12-12.4.5.8 nvidia-cuda-cupti-cu12-12.4.127 nvidia-cuda-nvrtc-cu12-12.4.127 nvidia-cuda-runtime-cu12-12.4.127 nvidia-cudnn-cu12-9.1.0.70 nvidia-cufft-cu12-11.2.1.3 nvidia-curand-cu12-10.3.5.147 nvidia-cusolver-cu12-11.6.1.9 nvidia-cusparse-cu12-12.3.1.170 nvidia-nvjitlink-cu12-12.4.127\n",
            "Requirement already satisfied: numpy in /usr/local/lib/python3.11/dist-packages (2.0.2)\n",
            "Collecting numpy\n",
            "  Downloading numpy-2.3.1-cp311-cp311-manylinux_2_28_x86_64.whl.metadata (62 kB)\n",
            "\u001b[2K     \u001b[90m━━━━━━━━━━━━━━━━━━━━━━━━━━━━━━━━━━━━━━━━\u001b[0m \u001b[32m62.1/62.1 kB\u001b[0m \u001b[31m2.7 MB/s\u001b[0m eta \u001b[36m0:00:00\u001b[0m\n",
            "\u001b[?25hDownloading numpy-2.3.1-cp311-cp311-manylinux_2_28_x86_64.whl (16.9 MB)\n",
            "\u001b[2K   \u001b[90m━━━━━━━━━━━━━━━━━━━━━━━━━━━━━━━━━━━━━━━━\u001b[0m \u001b[32m16.9/16.9 MB\u001b[0m \u001b[31m106.8 MB/s\u001b[0m eta \u001b[36m0:00:00\u001b[0m\n",
            "\u001b[?25hInstalling collected packages: numpy\n",
            "  Attempting uninstall: numpy\n",
            "    Found existing installation: numpy 2.0.2\n",
            "    Uninstalling numpy-2.0.2:\n",
            "      Successfully uninstalled numpy-2.0.2\n",
            "\u001b[31mERROR: pip's dependency resolver does not currently take into account all the packages that are installed. This behaviour is the source of the following dependency conflicts.\n",
            "cupy-cuda12x 13.3.0 requires numpy<2.3,>=1.22, but you have numpy 2.3.1 which is incompatible.\n",
            "tensorflow 2.18.0 requires numpy<2.1.0,>=1.26.0, but you have numpy 2.3.1 which is incompatible.\n",
            "numba 0.60.0 requires numpy<2.1,>=1.22, but you have numpy 2.3.1 which is incompatible.\u001b[0m\u001b[31m\n",
            "\u001b[0mSuccessfully installed numpy-2.3.1\n"
          ]
        },
        {
          "output_type": "display_data",
          "data": {
            "application/vnd.colab-display-data+json": {
              "pip_warning": {
                "packages": [
                  "numpy"
                ]
              },
              "id": "7125fcf558574bfe9da23763e7fa9429"
            }
          },
          "metadata": {}
        }
      ]
    },
    {
      "cell_type": "code",
      "source": [
        "import torch\n",
        "import torch.nn as nn\n",
        "import torch.optim as optim\n",
        "import torchvision\n",
        "import torchvision.transforms as transforms\n",
        "from torch.utils.data import DataLoader\n",
        "from torch.cuda.amp import autocast, GradScaler\n",
        "from tqdm import tqdm\n",
        "import matplotlib.pyplot as plt\n",
        "import numpy as np\n",
        "import einops\n",
        "import time\n",
        "from PIL import Image\n",
        "import requests\n",
        "from io import BytesIO\n",
        "import os"
      ],
      "metadata": {
        "id": "oPjDkQxNyLDG"
      },
      "execution_count": 10,
      "outputs": []
    },
    {
      "cell_type": "code",
      "source": [
        "class PatchEmbedding(nn.Module):\n",
        "    def __init__(self, image_size=32, patch_size=4, channels=3, dim=384):\n",
        "        super().__init__()\n",
        "        self.image_size = image_size\n",
        "        self.patch_size = patch_size\n",
        "        self.num_patches = (image_size // patch_size) ** 2\n",
        "        patch_dim = channels * patch_size ** 2\n",
        "\n",
        "        self.proj = nn.Conv2d(\n",
        "            channels, dim,\n",
        "            kernel_size=patch_size,\n",
        "            stride=patch_size\n",
        "        )\n",
        "        self.cls_token = nn.Parameter(torch.randn(1, 1, dim))\n",
        "        self.pos_embedding = nn.Parameter(torch.randn(1, self.num_patches + 1, dim))\n",
        "        self.dropout = nn.Dropout(0.1)\n",
        "\n",
        "    def forward(self, x):\n",
        "        b, c, h, w = x.shape\n",
        "        x = self.proj(x)\n",
        "        x = einops.rearrange(x, 'b c h w -> b (h w) c')\n",
        "        cls_tokens = einops.repeat(self.cls_token, '1 1 d -> b 1 d', b=b)\n",
        "        x = torch.cat((cls_tokens, x), dim=1)\n",
        "        x += self.pos_embedding\n",
        "        return self.dropout(x)\n",
        "\n",
        "class Attention(nn.Module):\n",
        "    def __init__(self, dim, heads=8, dropout=0.0):\n",
        "        super().__init__()\n",
        "        self.heads = heads\n",
        "        self.scale = dim ** -0.5\n",
        "        self.to_qkv = nn.Linear(dim, dim * 3, bias=False)\n",
        "        self.to_out = nn.Linear(dim, dim)\n",
        "        self.dropout = nn.Dropout(dropout)\n",
        "        self.last_attn = None\n",
        "\n",
        "    def forward(self, x):\n",
        "        b, n, _, h = *x.shape, self.heads\n",
        "        qkv = self.to_qkv(x).chunk(3, dim=-1)\n",
        "        q, k, v = map(lambda t: einops.rearrange(t, 'b n (h d) -> b h n d', h=h), qkv)\n",
        "        dots = torch.einsum('b h i d, b h j d -> b h i j', q, k) * self.scale\n",
        "        attn = dots.softmax(dim=-1)\n",
        "        attn = self.dropout(attn)\n",
        "        self.last_attn = attn.detach()\n",
        "        out = torch.einsum('b h i j, b h j d -> b h i d', attn, v)\n",
        "        out = einops.rearrange(out, 'b h n d -> b n (h d)')\n",
        "        out = self.to_out(out)\n",
        "        return out\n",
        "\n",
        "class MLP(nn.Module):\n",
        "    def __init__(self, dim, hidden_dim, dropout=0.0):\n",
        "        super().__init__()\n",
        "        self.net = nn.Sequential(\n",
        "            nn.Linear(dim, hidden_dim),\n",
        "            nn.GELU(),\n",
        "            nn.Dropout(dropout),\n",
        "            nn.Linear(hidden_dim, dim),\n",
        "            nn.Dropout(dropout)\n",
        "        )\n",
        "\n",
        "    def forward(self, x):\n",
        "        return self.net(x)\n",
        "\n",
        "class TransformerBlock(nn.Module):\n",
        "    def __init__(self, dim, heads, mlp_dim, dropout=0.0):\n",
        "        super().__init__()\n",
        "        self.norm1 = nn.LayerNorm(dim)\n",
        "        self.attn = Attention(dim, heads=heads, dropout=dropout)\n",
        "        self.norm2 = nn.LayerNorm(dim)\n",
        "        self.mlp = MLP(dim, mlp_dim, dropout=dropout)\n",
        "\n",
        "    def forward(self, x):\n",
        "        x = x + self.attn(self.norm1(x))\n",
        "        x = x + self.mlp(self.norm2(x))\n",
        "        return x\n",
        "\n",
        "class VisionTransformer(nn.Module):\n",
        "    def __init__(self, image_size=32, patch_size=4, num_classes=10, dim=384,\n",
        "                 depth=6, heads=8, mlp_dim=1024, dropout=0.1):\n",
        "        super().__init__()\n",
        "        self.patch_embed = PatchEmbedding(\n",
        "            image_size=image_size,\n",
        "            patch_size=patch_size,\n",
        "            channels=3,\n",
        "            dim=dim\n",
        "        )\n",
        "        self.blocks = nn.ModuleList([\n",
        "            TransformerBlock(\n",
        "                dim=dim,\n",
        "                heads=heads,\n",
        "                mlp_dim=mlp_dim,\n",
        "                dropout=dropout\n",
        "            ) for _ in range(depth)\n",
        "        ])\n",
        "        self.norm = nn.LayerNorm(dim)\n",
        "        self.head = nn.Linear(dim, num_classes)\n",
        "        self.attention_weights = []\n",
        "\n",
        "    def forward(self, x):\n",
        "        x = self.patch_embed(x)\n",
        "        for block in self.blocks:\n",
        "            x = block(x)\n",
        "        cls_token = x[:, 0]\n",
        "        cls_token = self.norm(cls_token)\n",
        "        return self.head(cls_token)\n",
        "\n",
        "def get_attention(self, x):\n",
        "    self.attention_weights = []\n",
        "    x = self.patch_embed(x)\n",
        "    for block in self.blocks:\n",
        "        def hook(module, input, output):\n",
        "            self.attention_weights.append(module.attn.last_attn)\n",
        "        handle = block.attn.register_forward_hook(hook)\n",
        "        x = block(x)\n",
        "        handle.remove()\n",
        "    return self.attention_weights"
      ],
      "metadata": {
        "id": "tMFB2bvrmwW_"
      },
      "execution_count": 24,
      "outputs": []
    },
    {
      "cell_type": "code",
      "source": [
        "#dataset\n",
        "transform_train = transforms.Compose([\n",
        "    transforms.RandomResizedCrop(32, scale=(0.8, 1.0)),\n",
        "    transforms.RandomHorizontalFlip(),\n",
        "    transforms.RandomRotation(15),\n",
        "    transforms.ToTensor(),\n",
        "    transforms.Normalize((0.4914, 0.4822, 0.4465), (0.247, 0.243, 0.261))\n",
        "])\n",
        "\n",
        "transform_test = transforms.Compose([\n",
        "    transforms.ToTensor(),\n",
        "    transforms.Normalize((0.4914, 0.4822, 0.4465), (0.247, 0.243, 0.261))\n",
        "])\n",
        "\n",
        "train_dataset = torchvision.datasets.CIFAR10(\n",
        "    root='./data', train=True, download=True, transform=transform_train)\n",
        "test_dataset = torchvision.datasets.CIFAR10(\n",
        "    root='./data', train=False, download=True, transform=transform_test)\n",
        "\n",
        "batch_size = 64\n",
        "train_loader = DataLoader(train_dataset, batch_size=batch_size, shuffle=True, num_workers=2, pin_memory=True)\n",
        "test_loader = DataLoader(test_dataset, batch_size=batch_size, shuffle=False, num_workers=2, pin_memory=True)\n",
        "\n",
        "classes = ('plane', 'car', 'bird', 'cat', 'deer', 'dog', 'frog', 'horse', 'ship', 'truck')\n"
      ],
      "metadata": {
        "colab": {
          "base_uri": "https://localhost:8080/"
        },
        "id": "3z7B5-p7mxG8",
        "outputId": "0be56f1e-c460-43dc-d488-87659026185e"
      },
      "execution_count": 3,
      "outputs": [
        {
          "output_type": "stream",
          "name": "stderr",
          "text": [
            "100%|██████████| 170M/170M [00:05<00:00, 31.4MB/s]\n"
          ]
        }
      ]
    },
    {
      "cell_type": "code",
      "source": [
        "#initialize model, optimizer, loss\n",
        "device = torch.device('cuda' if torch.cuda.is_available() else 'cpu')\n",
        "\n",
        "model = VisionTransformer(\n",
        "    image_size=32,\n",
        "    patch_size=4,\n",
        "    num_classes=10,\n",
        "    dim=384,\n",
        "    depth=6,\n",
        "    heads=8,\n",
        "    mlp_dim=1024,\n",
        "    dropout=0.1\n",
        ").to(device)\n",
        "\n",
        "print(f\"total param: {sum(p.numel() for p in model.parameters())/1e6:.2f}M\")\n",
        "\n",
        "optimizer = optim.AdamW(model.parameters(), lr=3e-4, weight_decay=0.03)\n",
        "criterion = nn.CrossEntropyLoss()\n",
        "scaler = GradScaler()\n",
        "scheduler = optim.lr_scheduler.CosineAnnealingLR(optimizer, T_max=len(train_loader)*50)"
      ],
      "metadata": {
        "colab": {
          "base_uri": "https://localhost:8080/"
        },
        "id": "SbCxQqhXmz7J",
        "outputId": "faa26dc6-18e8-41ba-ff51-108bfca2a2a8"
      },
      "execution_count": 7,
      "outputs": [
        {
          "output_type": "stream",
          "name": "stdout",
          "text": [
            "Total parameters: 8.33M\n"
          ]
        },
        {
          "output_type": "stream",
          "name": "stderr",
          "text": [
            "/tmp/ipython-input-7-3237527816.py:20: FutureWarning: `torch.cuda.amp.GradScaler(args...)` is deprecated. Please use `torch.amp.GradScaler('cuda', args...)` instead.\n",
            "  scaler = GradScaler()\n"
          ]
        }
      ]
    },
    {
      "cell_type": "code",
      "source": [
        "#training fn\n",
        "def train_epoch(model, loader, optimizer, criterion, scaler, scheduler):\n",
        "    model.train()\n",
        "    total_loss, correct, total = 0, 0, 0\n",
        "    progress_bar = tqdm(loader, desc=\"training\")\n",
        "    for inputs, targets in progress_bar:\n",
        "        inputs, targets = inputs.to(device), targets.to(device)\n",
        "        optimizer.zero_grad()\n",
        "        with autocast():\n",
        "            outputs = model(inputs)\n",
        "            loss = criterion(outputs, targets)\n",
        "        scaler.scale(loss).backward()\n",
        "        scaler.unscale_(optimizer)\n",
        "        torch.nn.utils.clip_grad_norm_(model.parameters(), 1.0)\n",
        "        scaler.step(optimizer)\n",
        "        scaler.update()\n",
        "        scheduler.step()\n",
        "        total_loss += loss.item()\n",
        "        _, predicted = outputs.max(1)\n",
        "        total += targets.size(0)\n",
        "        correct += predicted.eq(targets).sum().item()\n",
        "        progress_bar.set_postfix({\n",
        "            'Loss': total_loss/(progress_bar.n+1),\n",
        "            'Acc': 100.*correct/total,\n",
        "            'LR': optimizer.param_groups[0]['lr']\n",
        "        })\n",
        "    return total_loss / len(loader), 100. * correct / total\n",
        "\n",
        "def evaluate(model, loader, criterion):\n",
        "    model.eval()\n",
        "    total_loss, correct, total = 0, 0, 0\n",
        "    with torch.no_grad():\n",
        "        progress_bar = tqdm(loader, desc=\"testing\")\n",
        "        for inputs, targets in progress_bar:\n",
        "            inputs, targets = inputs.to(device), targets.to(device)\n",
        "            with autocast():\n",
        "                outputs = model(inputs)\n",
        "                loss = criterion(outputs, targets)\n",
        "            total_loss += loss.item()\n",
        "            _, predicted = outputs.max(1)\n",
        "            total += targets.size(0)\n",
        "            correct += predicted.eq(targets).sum().item()\n",
        "            progress_bar.set_postfix({\n",
        "                'Loss': total_loss/(progress_bar.n+1),\n",
        "                'Acc': 100.*correct/total\n",
        "            })\n",
        "    return total_loss / len(loader), 100. * correct / total"
      ],
      "metadata": {
        "id": "CnoeFG5Vm6_J"
      },
      "execution_count": 8,
      "outputs": []
    },
    {
      "cell_type": "code",
      "source": [
        "#rain\n",
        "best_acc = 0\n",
        "history = {'train_loss': [], 'train_acc': [], 'test_loss': [], 'test_acc': []}\n",
        "epochs = 50\n",
        "\n",
        "\n",
        "for epoch in range(epochs):\n",
        "    start_time = time.time()\n",
        "    train_loss, train_acc = train_epoch(model, train_loader, optimizer, criterion, scaler, scheduler)\n",
        "    test_loss, test_acc = evaluate(model, test_loader, criterion)\n",
        "    history['train_loss'].append(train_loss)\n",
        "    history['train_acc'].append(train_acc)\n",
        "    history['test_loss'].append(test_loss)\n",
        "    history['test_acc'].append(test_acc)\n",
        "\n",
        "    if test_acc > best_acc:\n",
        "        best_acc = test_acc\n",
        "        torch.save(model.state_dict(), os.path.join(PROJECT_PATH, 'vit_cifar10_best.pth'))\n",
        "\n",
        "    epoch_time = time.time() - start_time\n",
        "    print(f\"epoch {epoch+1}/{epochs} | time: {epoch_time:.1f}s | \"\n",
        "          f\"train ccc: {train_acc:.2f}% | test acc: {test_acc:.2f}% | best acc: {best_acc:.2f}%\")\n",
        "\n",
        "torch.save(model.state_dict(), os.path.join(PROJECT_PATH, 'vit_cifar10_final.pth'))\n"
      ],
      "metadata": {
        "colab": {
          "base_uri": "https://localhost:8080/"
        },
        "id": "wPtCUN7Em-AF",
        "outputId": "890cfae6-eb0f-4a13-d689-16b6c7cab3a3"
      },
      "execution_count": 13,
      "outputs": [
        {
          "output_type": "stream",
          "name": "stderr",
          "text": [
            "\rTraining:   0%|          | 0/782 [00:00<?, ?it/s]/tmp/ipython-input-8-2183549065.py:9: FutureWarning: `torch.cuda.amp.autocast(args...)` is deprecated. Please use `torch.amp.autocast('cuda', args...)` instead.\n",
            "  with autocast():\n",
            "Training: 100%|██████████| 782/782 [00:46<00:00, 16.81it/s, Loss=1.28, Acc=54, LR=0.000297]\n",
            "Testing:   0%|          | 0/157 [00:00<?, ?it/s]/tmp/ipython-input-8-2183549065.py:36: FutureWarning: `torch.cuda.amp.autocast(args...)` is deprecated. Please use `torch.amp.autocast('cuda', args...)` instead.\n",
            "  with autocast():\n",
            "Testing: 100%|██████████| 157/157 [00:04<00:00, 36.69it/s, Loss=1.22, Acc=56.7]\n"
          ]
        },
        {
          "output_type": "stream",
          "name": "stdout",
          "text": [
            "Epoch 1/50 | Time: 50.9s | Train Acc: 54.05% | Test Acc: 56.73% | Best Acc: 56.73%\n"
          ]
        },
        {
          "output_type": "stream",
          "name": "stderr",
          "text": [
            "Training: 100%|██████████| 782/782 [00:47<00:00, 16.63it/s, Loss=1.2, Acc=57.1, LR=0.000295]\n",
            "Testing: 100%|██████████| 157/157 [00:04<00:00, 36.65it/s, Loss=1.19, Acc=58.2]\n"
          ]
        },
        {
          "output_type": "stream",
          "name": "stdout",
          "text": [
            "Epoch 2/50 | Time: 51.4s | Train Acc: 57.06% | Test Acc: 58.21% | Best Acc: 58.21%\n"
          ]
        },
        {
          "output_type": "stream",
          "name": "stderr",
          "text": [
            "Training: 100%|██████████| 782/782 [00:50<00:00, 15.41it/s, Loss=1.15, Acc=59.2, LR=0.000293]\n",
            "Testing: 100%|██████████| 157/157 [00:03<00:00, 45.04it/s, Loss=1.09, Acc=61.4]\n"
          ]
        },
        {
          "output_type": "stream",
          "name": "stdout",
          "text": [
            "Epoch 3/50 | Time: 54.3s | Train Acc: 59.18% | Test Acc: 61.36% | Best Acc: 61.36%\n"
          ]
        },
        {
          "output_type": "stream",
          "name": "stderr",
          "text": [
            "Training: 100%|██████████| 782/782 [00:46<00:00, 16.72it/s, Loss=1.1, Acc=61, LR=0.000289]\n",
            "Testing: 100%|██████████| 157/157 [00:04<00:00, 37.10it/s, Loss=1.04, Acc=63]\n"
          ]
        },
        {
          "output_type": "stream",
          "name": "stdout",
          "text": [
            "Epoch 4/50 | Time: 51.1s | Train Acc: 60.99% | Test Acc: 62.98% | Best Acc: 62.98%\n"
          ]
        },
        {
          "output_type": "stream",
          "name": "stderr",
          "text": [
            "Training: 100%|██████████| 782/782 [00:46<00:00, 16.84it/s, Loss=1.05, Acc=62.7, LR=0.000286]\n",
            "Testing: 100%|██████████| 157/157 [00:03<00:00, 43.08it/s, Loss=1.01, Acc=64.4]\n"
          ]
        },
        {
          "output_type": "stream",
          "name": "stdout",
          "text": [
            "Epoch 5/50 | Time: 50.2s | Train Acc: 62.73% | Test Acc: 64.36% | Best Acc: 64.36%\n"
          ]
        },
        {
          "output_type": "stream",
          "name": "stderr",
          "text": [
            "Training: 100%|██████████| 782/782 [00:47<00:00, 16.45it/s, Loss=1.01, Acc=64.1, LR=0.000281]\n",
            "Testing: 100%|██████████| 157/157 [00:03<00:00, 45.02it/s, Loss=0.986, Acc=65.1]\n"
          ]
        },
        {
          "output_type": "stream",
          "name": "stdout",
          "text": [
            "Epoch 6/50 | Time: 51.1s | Train Acc: 64.09% | Test Acc: 65.06% | Best Acc: 65.06%\n"
          ]
        },
        {
          "output_type": "stream",
          "name": "stderr",
          "text": [
            "Training: 100%|██████████| 782/782 [00:46<00:00, 16.85it/s, Loss=0.97, Acc=65.6, LR=0.000277]\n",
            "Testing: 100%|██████████| 157/157 [00:04<00:00, 32.64it/s, Loss=0.996, Acc=65.8]\n"
          ]
        },
        {
          "output_type": "stream",
          "name": "stdout",
          "text": [
            "Epoch 7/50 | Time: 51.3s | Train Acc: 65.60% | Test Acc: 65.79% | Best Acc: 65.79%\n"
          ]
        },
        {
          "output_type": "stream",
          "name": "stderr",
          "text": [
            "Training: 100%|██████████| 782/782 [00:46<00:00, 16.86it/s, Loss=0.935, Acc=66.8, LR=0.000271]\n",
            "Testing: 100%|██████████| 157/157 [00:03<00:00, 45.04it/s, Loss=0.887, Acc=68.5]\n"
          ]
        },
        {
          "output_type": "stream",
          "name": "stdout",
          "text": [
            "Epoch 8/50 | Time: 50.0s | Train Acc: 66.84% | Test Acc: 68.47% | Best Acc: 68.47%\n"
          ]
        },
        {
          "output_type": "stream",
          "name": "stderr",
          "text": [
            "Training: 100%|██████████| 782/782 [00:47<00:00, 16.51it/s, Loss=0.897, Acc=68.2, LR=0.000266]\n",
            "Testing: 100%|██████████| 157/157 [00:03<00:00, 44.48it/s, Loss=0.955, Acc=67.5]\n"
          ]
        },
        {
          "output_type": "stream",
          "name": "stdout",
          "text": [
            "Epoch 9/50 | Time: 50.9s | Train Acc: 68.25% | Test Acc: 67.53% | Best Acc: 68.47%\n"
          ]
        },
        {
          "output_type": "stream",
          "name": "stderr",
          "text": [
            "Training: 100%|██████████| 782/782 [00:45<00:00, 17.02it/s, Loss=0.856, Acc=69.5, LR=0.000259]\n",
            "Testing: 100%|██████████| 157/157 [00:03<00:00, 41.07it/s, Loss=0.873, Acc=69.7]\n"
          ]
        },
        {
          "output_type": "stream",
          "name": "stdout",
          "text": [
            "Epoch 10/50 | Time: 49.9s | Train Acc: 69.52% | Test Acc: 69.69% | Best Acc: 69.69%\n"
          ]
        },
        {
          "output_type": "stream",
          "name": "stderr",
          "text": [
            "Training: 100%|██████████| 782/782 [00:46<00:00, 16.71it/s, Loss=0.831, Acc=70.7, LR=0.000253]\n",
            "Testing: 100%|██████████| 157/157 [00:03<00:00, 44.83it/s, Loss=0.84, Acc=70.9]\n"
          ]
        },
        {
          "output_type": "stream",
          "name": "stdout",
          "text": [
            "Epoch 11/50 | Time: 50.4s | Train Acc: 70.68% | Test Acc: 70.91% | Best Acc: 70.91%\n"
          ]
        },
        {
          "output_type": "stream",
          "name": "stderr",
          "text": [
            "Training: 100%|██████████| 782/782 [00:46<00:00, 16.99it/s, Loss=0.797, Acc=71.6, LR=0.000246]\n",
            "Testing: 100%|██████████| 157/157 [00:04<00:00, 33.60it/s, Loss=0.83, Acc=70.8]\n"
          ]
        },
        {
          "output_type": "stream",
          "name": "stdout",
          "text": [
            "Epoch 12/50 | Time: 50.7s | Train Acc: 71.57% | Test Acc: 70.77% | Best Acc: 70.91%\n"
          ]
        },
        {
          "output_type": "stream",
          "name": "stderr",
          "text": [
            "Training: 100%|██████████| 782/782 [00:45<00:00, 17.14it/s, Loss=0.771, Acc=72.6, LR=0.000238]\n",
            "Testing: 100%|██████████| 157/157 [00:03<00:00, 44.96it/s, Loss=0.807, Acc=71.5]\n"
          ]
        },
        {
          "output_type": "stream",
          "name": "stdout",
          "text": [
            "Epoch 13/50 | Time: 49.2s | Train Acc: 72.61% | Test Acc: 71.54% | Best Acc: 71.54%\n"
          ]
        },
        {
          "output_type": "stream",
          "name": "stderr",
          "text": [
            "Training: 100%|██████████| 782/782 [00:46<00:00, 16.80it/s, Loss=0.738, Acc=73.9, LR=0.00023]\n",
            "Testing: 100%|██████████| 157/157 [00:04<00:00, 36.30it/s, Loss=0.806, Acc=72.5]\n"
          ]
        },
        {
          "output_type": "stream",
          "name": "stdout",
          "text": [
            "Epoch 14/50 | Time: 51.0s | Train Acc: 73.95% | Test Acc: 72.50% | Best Acc: 72.50%\n"
          ]
        },
        {
          "output_type": "stream",
          "name": "stderr",
          "text": [
            "Training: 100%|██████████| 782/782 [00:46<00:00, 16.84it/s, Loss=0.713, Acc=74.8, LR=0.000222]\n",
            "Testing: 100%|██████████| 157/157 [00:03<00:00, 44.83it/s, Loss=0.81, Acc=72.8]\n"
          ]
        },
        {
          "output_type": "stream",
          "name": "stdout",
          "text": [
            "Epoch 15/50 | Time: 50.0s | Train Acc: 74.84% | Test Acc: 72.79% | Best Acc: 72.79%\n"
          ]
        },
        {
          "output_type": "stream",
          "name": "stderr",
          "text": [
            "Training: 100%|██████████| 782/782 [00:47<00:00, 16.47it/s, Loss=0.677, Acc=76, LR=0.000214]\n",
            "Testing: 100%|██████████| 157/157 [00:03<00:00, 44.81it/s, Loss=0.803, Acc=73.4]\n"
          ]
        },
        {
          "output_type": "stream",
          "name": "stdout",
          "text": [
            "Epoch 16/50 | Time: 51.1s | Train Acc: 75.98% | Test Acc: 73.36% | Best Acc: 73.36%\n"
          ]
        },
        {
          "output_type": "stream",
          "name": "stderr",
          "text": [
            "Training: 100%|██████████| 782/782 [00:46<00:00, 16.88it/s, Loss=0.654, Acc=76.7, LR=0.000205]\n",
            "Testing: 100%|██████████| 157/157 [00:04<00:00, 36.29it/s, Loss=0.761, Acc=74]\n"
          ]
        },
        {
          "output_type": "stream",
          "name": "stdout",
          "text": [
            "Epoch 17/50 | Time: 50.8s | Train Acc: 76.65% | Test Acc: 74.01% | Best Acc: 74.01%\n"
          ]
        },
        {
          "output_type": "stream",
          "name": "stderr",
          "text": [
            "Training: 100%|██████████| 782/782 [00:46<00:00, 16.78it/s, Loss=0.632, Acc=77.4, LR=0.000196]\n",
            "Testing: 100%|██████████| 157/157 [00:03<00:00, 44.91it/s, Loss=0.748, Acc=75]\n"
          ]
        },
        {
          "output_type": "stream",
          "name": "stdout",
          "text": [
            "Epoch 18/50 | Time: 50.2s | Train Acc: 77.44% | Test Acc: 75.04% | Best Acc: 75.04%\n"
          ]
        },
        {
          "output_type": "stream",
          "name": "stderr",
          "text": [
            "Training: 100%|██████████| 782/782 [00:46<00:00, 16.75it/s, Loss=0.596, Acc=78.9, LR=0.000187]\n",
            "Testing: 100%|██████████| 157/157 [00:04<00:00, 37.57it/s, Loss=0.778, Acc=74.3]\n"
          ]
        },
        {
          "output_type": "stream",
          "name": "stdout",
          "text": [
            "Epoch 19/50 | Time: 50.9s | Train Acc: 78.90% | Test Acc: 74.35% | Best Acc: 75.04%\n"
          ]
        },
        {
          "output_type": "stream",
          "name": "stderr",
          "text": [
            "Training: 100%|██████████| 782/782 [00:45<00:00, 17.08it/s, Loss=0.57, Acc=79.6, LR=0.000178]\n",
            "Testing: 100%|██████████| 157/157 [00:03<00:00, 45.22it/s, Loss=0.765, Acc=74.4]\n"
          ]
        },
        {
          "output_type": "stream",
          "name": "stdout",
          "text": [
            "Epoch 20/50 | Time: 49.3s | Train Acc: 79.56% | Test Acc: 74.40% | Best Acc: 75.04%\n"
          ]
        },
        {
          "output_type": "stream",
          "name": "stderr",
          "text": [
            "Training: 100%|██████████| 782/782 [00:46<00:00, 16.69it/s, Loss=0.551, Acc=80.5, LR=0.000169]\n",
            "Testing: 100%|██████████| 157/157 [00:03<00:00, 44.68it/s, Loss=0.749, Acc=75.3]\n"
          ]
        },
        {
          "output_type": "stream",
          "name": "stdout",
          "text": [
            "Epoch 21/50 | Time: 50.5s | Train Acc: 80.46% | Test Acc: 75.31% | Best Acc: 75.31%\n"
          ]
        },
        {
          "output_type": "stream",
          "name": "stderr",
          "text": [
            "Training: 100%|██████████| 782/782 [00:46<00:00, 16.80it/s, Loss=0.517, Acc=81.6, LR=0.000159]\n",
            "Testing: 100%|██████████| 157/157 [00:04<00:00, 35.09it/s, Loss=0.769, Acc=75.3]\n"
          ]
        },
        {
          "output_type": "stream",
          "name": "stdout",
          "text": [
            "Epoch 22/50 | Time: 51.2s | Train Acc: 81.64% | Test Acc: 75.35% | Best Acc: 75.35%\n"
          ]
        },
        {
          "output_type": "stream",
          "name": "stderr",
          "text": [
            "Training: 100%|██████████| 782/782 [00:46<00:00, 16.78it/s, Loss=0.492, Acc=82.5, LR=0.00015]\n",
            "Testing: 100%|██████████| 157/157 [00:03<00:00, 45.48it/s, Loss=0.75, Acc=76.3]\n"
          ]
        },
        {
          "output_type": "stream",
          "name": "stdout",
          "text": [
            "Epoch 23/50 | Time: 50.2s | Train Acc: 82.53% | Test Acc: 76.30% | Best Acc: 76.30%\n"
          ]
        },
        {
          "output_type": "stream",
          "name": "stderr",
          "text": [
            "Training: 100%|██████████| 782/782 [00:48<00:00, 16.10it/s, Loss=0.47, Acc=83.3, LR=0.000141]\n",
            "Testing: 100%|██████████| 157/157 [00:03<00:00, 42.31it/s, Loss=0.766, Acc=75.8]\n"
          ]
        },
        {
          "output_type": "stream",
          "name": "stdout",
          "text": [
            "Epoch 24/50 | Time: 52.3s | Train Acc: 83.28% | Test Acc: 75.82% | Best Acc: 76.30%\n"
          ]
        },
        {
          "output_type": "stream",
          "name": "stderr",
          "text": [
            "Training: 100%|██████████| 782/782 [00:46<00:00, 16.75it/s, Loss=0.445, Acc=84.1, LR=0.000131]\n",
            "Testing: 100%|██████████| 157/157 [00:04<00:00, 35.27it/s, Loss=0.78, Acc=75.7]\n"
          ]
        },
        {
          "output_type": "stream",
          "name": "stdout",
          "text": [
            "Epoch 25/50 | Time: 51.1s | Train Acc: 84.09% | Test Acc: 75.68% | Best Acc: 76.30%\n"
          ]
        },
        {
          "output_type": "stream",
          "name": "stderr",
          "text": [
            "Training: 100%|██████████| 782/782 [00:46<00:00, 16.87it/s, Loss=0.419, Acc=84.9, LR=0.000122]\n",
            "Testing: 100%|██████████| 157/157 [00:03<00:00, 44.97it/s, Loss=0.756, Acc=76.4]\n"
          ]
        },
        {
          "output_type": "stream",
          "name": "stdout",
          "text": [
            "Epoch 26/50 | Time: 50.0s | Train Acc: 84.94% | Test Acc: 76.37% | Best Acc: 76.37%\n"
          ]
        },
        {
          "output_type": "stream",
          "name": "stderr",
          "text": [
            "Training: 100%|██████████| 782/782 [00:47<00:00, 16.61it/s, Loss=0.396, Acc=85.9, LR=0.000113]\n",
            "Testing: 100%|██████████| 157/157 [00:04<00:00, 38.76it/s, Loss=0.783, Acc=76.8]\n"
          ]
        },
        {
          "output_type": "stream",
          "name": "stdout",
          "text": [
            "Epoch 27/50 | Time: 51.2s | Train Acc: 85.92% | Test Acc: 76.77% | Best Acc: 76.77%\n"
          ]
        },
        {
          "output_type": "stream",
          "name": "stderr",
          "text": [
            "Training: 100%|██████████| 782/782 [00:46<00:00, 16.80it/s, Loss=0.374, Acc=86.9, LR=0.000104]\n",
            "Testing: 100%|██████████| 157/157 [00:03<00:00, 40.09it/s, Loss=0.79, Acc=76.4]\n"
          ]
        },
        {
          "output_type": "stream",
          "name": "stdout",
          "text": [
            "Epoch 28/50 | Time: 50.5s | Train Acc: 86.92% | Test Acc: 76.39% | Best Acc: 76.77%\n"
          ]
        },
        {
          "output_type": "stream",
          "name": "stderr",
          "text": [
            "Training: 100%|██████████| 782/782 [00:46<00:00, 16.71it/s, Loss=0.353, Acc=87.4, LR=9.48e-5]\n",
            "Testing: 100%|██████████| 157/157 [00:03<00:00, 44.83it/s, Loss=0.774, Acc=77.2]\n"
          ]
        },
        {
          "output_type": "stream",
          "name": "stdout",
          "text": [
            "Epoch 29/50 | Time: 50.4s | Train Acc: 87.45% | Test Acc: 77.15% | Best Acc: 77.15%\n"
          ]
        },
        {
          "output_type": "stream",
          "name": "stderr",
          "text": [
            "Training: 100%|██████████| 782/782 [00:46<00:00, 16.82it/s, Loss=0.332, Acc=88.2, LR=8.61e-5]\n",
            "Testing: 100%|██████████| 157/157 [00:04<00:00, 33.99it/s, Loss=0.78, Acc=77]\n"
          ]
        },
        {
          "output_type": "stream",
          "name": "stdout",
          "text": [
            "Epoch 30/50 | Time: 51.1s | Train Acc: 88.20% | Test Acc: 77.01% | Best Acc: 77.15%\n"
          ]
        },
        {
          "output_type": "stream",
          "name": "stderr",
          "text": [
            "Training: 100%|██████████| 782/782 [00:46<00:00, 16.84it/s, Loss=0.311, Acc=89, LR=7.77e-5]\n",
            "Testing: 100%|██████████| 157/157 [00:03<00:00, 44.69it/s, Loss=0.819, Acc=76.9]\n"
          ]
        },
        {
          "output_type": "stream",
          "name": "stdout",
          "text": [
            "Epoch 31/50 | Time: 50.0s | Train Acc: 89.01% | Test Acc: 76.89% | Best Acc: 77.15%\n"
          ]
        },
        {
          "output_type": "stream",
          "name": "stderr",
          "text": [
            "Training: 100%|██████████| 782/782 [00:47<00:00, 16.49it/s, Loss=0.287, Acc=89.8, LR=6.96e-5]\n",
            "Testing: 100%|██████████| 157/157 [00:03<00:00, 44.28it/s, Loss=0.835, Acc=76.8]\n"
          ]
        },
        {
          "output_type": "stream",
          "name": "stdout",
          "text": [
            "Epoch 32/50 | Time: 51.0s | Train Acc: 89.83% | Test Acc: 76.80% | Best Acc: 77.15%\n"
          ]
        },
        {
          "output_type": "stream",
          "name": "stderr",
          "text": [
            "Training: 100%|██████████| 782/782 [00:46<00:00, 16.87it/s, Loss=0.274, Acc=90.3, LR=6.18e-5]\n",
            "Testing: 100%|██████████| 157/157 [00:04<00:00, 31.83it/s, Loss=0.849, Acc=76.3]\n"
          ]
        },
        {
          "output_type": "stream",
          "name": "stdout",
          "text": [
            "Epoch 33/50 | Time: 51.3s | Train Acc: 90.26% | Test Acc: 76.35% | Best Acc: 77.15%\n"
          ]
        },
        {
          "output_type": "stream",
          "name": "stderr",
          "text": [
            "Training: 100%|██████████| 782/782 [00:46<00:00, 16.98it/s, Loss=0.258, Acc=91, LR=5.44e-5]\n",
            "Testing: 100%|██████████| 157/157 [00:03<00:00, 44.33it/s, Loss=0.889, Acc=76.6]\n"
          ]
        },
        {
          "output_type": "stream",
          "name": "stdout",
          "text": [
            "Epoch 34/50 | Time: 49.6s | Train Acc: 91.01% | Test Acc: 76.60% | Best Acc: 77.15%\n"
          ]
        },
        {
          "output_type": "stream",
          "name": "stderr",
          "text": [
            "Training: 100%|██████████| 782/782 [00:47<00:00, 16.55it/s, Loss=0.242, Acc=91.4, LR=4.73e-5]\n",
            "Testing: 100%|██████████| 157/157 [00:03<00:00, 39.46it/s, Loss=0.856, Acc=76.8]\n"
          ]
        },
        {
          "output_type": "stream",
          "name": "stdout",
          "text": [
            "Epoch 35/50 | Time: 51.2s | Train Acc: 91.39% | Test Acc: 76.80% | Best Acc: 77.15%\n"
          ]
        },
        {
          "output_type": "stream",
          "name": "stderr",
          "text": [
            "Training: 100%|██████████| 782/782 [00:46<00:00, 16.88it/s, Loss=0.228, Acc=91.9, LR=4.07e-5]\n",
            "Testing: 100%|██████████| 157/157 [00:03<00:00, 39.44it/s, Loss=0.887, Acc=76.8]\n"
          ]
        },
        {
          "output_type": "stream",
          "name": "stdout",
          "text": [
            "Epoch 36/50 | Time: 50.3s | Train Acc: 91.94% | Test Acc: 76.82% | Best Acc: 77.15%\n"
          ]
        },
        {
          "output_type": "stream",
          "name": "stderr",
          "text": [
            "Training: 100%|██████████| 782/782 [00:47<00:00, 16.41it/s, Loss=0.216, Acc=92.5, LR=3.44e-5]\n",
            "Testing: 100%|██████████| 157/157 [00:03<00:00, 44.34it/s, Loss=0.882, Acc=77.1]\n"
          ]
        },
        {
          "output_type": "stream",
          "name": "stdout",
          "text": [
            "Epoch 37/50 | Time: 51.2s | Train Acc: 92.46% | Test Acc: 77.10% | Best Acc: 77.15%\n"
          ]
        },
        {
          "output_type": "stream",
          "name": "stderr",
          "text": [
            "Training: 100%|██████████| 782/782 [00:46<00:00, 16.74it/s, Loss=0.207, Acc=92.6, LR=2.86e-5]\n",
            "Testing: 100%|██████████| 157/157 [00:04<00:00, 33.34it/s, Loss=0.869, Acc=77.5]\n"
          ]
        },
        {
          "output_type": "stream",
          "name": "stdout",
          "text": [
            "Epoch 38/50 | Time: 51.5s | Train Acc: 92.62% | Test Acc: 77.52% | Best Acc: 77.52%\n"
          ]
        },
        {
          "output_type": "stream",
          "name": "stderr",
          "text": [
            "Training: 100%|██████████| 782/782 [00:47<00:00, 16.59it/s, Loss=0.193, Acc=93, LR=2.34e-5]\n",
            "Testing: 100%|██████████| 157/157 [00:03<00:00, 41.96it/s, Loss=0.901, Acc=77.3]\n"
          ]
        },
        {
          "output_type": "stream",
          "name": "stdout",
          "text": [
            "Epoch 39/50 | Time: 50.9s | Train Acc: 93.05% | Test Acc: 77.32% | Best Acc: 77.52%\n"
          ]
        },
        {
          "output_type": "stream",
          "name": "stderr",
          "text": [
            "Training: 100%|██████████| 782/782 [00:47<00:00, 16.43it/s, Loss=0.181, Acc=93.6, LR=1.86e-5]\n",
            "Testing: 100%|██████████| 157/157 [00:03<00:00, 44.34it/s, Loss=0.938, Acc=77.1]\n"
          ]
        },
        {
          "output_type": "stream",
          "name": "stdout",
          "text": [
            "Epoch 40/50 | Time: 51.1s | Train Acc: 93.55% | Test Acc: 77.13% | Best Acc: 77.52%\n"
          ]
        },
        {
          "output_type": "stream",
          "name": "stderr",
          "text": [
            "Training: 100%|██████████| 782/782 [00:46<00:00, 16.89it/s, Loss=0.178, Acc=93.7, LR=1.43e-5]\n",
            "Testing: 100%|██████████| 157/157 [00:04<00:00, 32.65it/s, Loss=0.918, Acc=77.1]\n"
          ]
        },
        {
          "output_type": "stream",
          "name": "stdout",
          "text": [
            "Epoch 41/50 | Time: 51.1s | Train Acc: 93.70% | Test Acc: 77.10% | Best Acc: 77.52%\n"
          ]
        },
        {
          "output_type": "stream",
          "name": "stderr",
          "text": [
            "Training: 100%|██████████| 782/782 [00:46<00:00, 16.75it/s, Loss=0.172, Acc=94, LR=1.05e-5]\n",
            "Testing: 100%|██████████| 157/157 [00:03<00:00, 44.13it/s, Loss=0.914, Acc=77.3]\n"
          ]
        },
        {
          "output_type": "stream",
          "name": "stdout",
          "text": [
            "Epoch 42/50 | Time: 50.2s | Train Acc: 93.95% | Test Acc: 77.32% | Best Acc: 77.52%\n"
          ]
        },
        {
          "output_type": "stream",
          "name": "stderr",
          "text": [
            "Training: 100%|██████████| 782/782 [00:47<00:00, 16.35it/s, Loss=0.166, Acc=94.2, LR=7.34e-6]\n",
            "Testing: 100%|██████████| 157/157 [00:03<00:00, 43.67it/s, Loss=0.952, Acc=77.1]\n"
          ]
        },
        {
          "output_type": "stream",
          "name": "stdout",
          "text": [
            "Epoch 43/50 | Time: 51.4s | Train Acc: 94.21% | Test Acc: 77.07% | Best Acc: 77.52%\n"
          ]
        },
        {
          "output_type": "stream",
          "name": "stderr",
          "text": [
            "Training: 100%|██████████| 782/782 [00:46<00:00, 16.74it/s, Loss=0.158, Acc=94.4, LR=4.71e-6]\n",
            "Testing: 100%|██████████| 157/157 [00:04<00:00, 33.36it/s, Loss=0.936, Acc=77.2]\n"
          ]
        },
        {
          "output_type": "stream",
          "name": "stdout",
          "text": [
            "Epoch 44/50 | Time: 51.4s | Train Acc: 94.44% | Test Acc: 77.24% | Best Acc: 77.52%\n"
          ]
        },
        {
          "output_type": "stream",
          "name": "stderr",
          "text": [
            "Training: 100%|██████████| 782/782 [00:46<00:00, 16.72it/s, Loss=0.157, Acc=94.5, LR=2.66e-6]\n",
            "Testing: 100%|██████████| 157/157 [00:03<00:00, 44.76it/s, Loss=0.952, Acc=77.2]\n"
          ]
        },
        {
          "output_type": "stream",
          "name": "stdout",
          "text": [
            "Epoch 45/50 | Time: 50.3s | Train Acc: 94.47% | Test Acc: 77.15% | Best Acc: 77.52%\n"
          ]
        },
        {
          "output_type": "stream",
          "name": "stderr",
          "text": [
            "Training: 100%|██████████| 782/782 [00:47<00:00, 16.55it/s, Loss=0.154, Acc=94.6, LR=1.18e-6]\n",
            "Testing: 100%|██████████| 157/157 [00:04<00:00, 39.04it/s, Loss=0.954, Acc=77.2]\n"
          ]
        },
        {
          "output_type": "stream",
          "name": "stdout",
          "text": [
            "Epoch 46/50 | Time: 51.3s | Train Acc: 94.62% | Test Acc: 77.20% | Best Acc: 77.52%\n"
          ]
        },
        {
          "output_type": "stream",
          "name": "stderr",
          "text": [
            "Training: 100%|██████████| 782/782 [00:46<00:00, 16.86it/s, Loss=0.155, Acc=94.6, LR=2.96e-7]\n",
            "Testing: 100%|██████████| 157/157 [00:03<00:00, 41.24it/s, Loss=0.943, Acc=77.2]\n"
          ]
        },
        {
          "output_type": "stream",
          "name": "stdout",
          "text": [
            "Epoch 47/50 | Time: 50.2s | Train Acc: 94.65% | Test Acc: 77.20% | Best Acc: 77.52%\n"
          ]
        },
        {
          "output_type": "stream",
          "name": "stderr",
          "text": [
            "Training: 100%|██████████| 782/782 [00:50<00:00, 15.47it/s, Loss=0.155, Acc=94.6, LR=0]\n",
            "Testing: 100%|██████████| 157/157 [00:03<00:00, 41.84it/s, Loss=0.949, Acc=77.2]\n"
          ]
        },
        {
          "output_type": "stream",
          "name": "stdout",
          "text": [
            "Epoch 48/50 | Time: 54.3s | Train Acc: 94.63% | Test Acc: 77.18% | Best Acc: 77.52%\n"
          ]
        },
        {
          "output_type": "stream",
          "name": "stderr",
          "text": [
            "Training: 100%|██████████| 782/782 [00:53<00:00, 14.57it/s, Loss=0.156, Acc=94.6, LR=2.96e-7]\n",
            "Testing: 100%|██████████| 157/157 [00:03<00:00, 41.67it/s, Loss=0.943, Acc=77.2]\n"
          ]
        },
        {
          "output_type": "stream",
          "name": "stdout",
          "text": [
            "Epoch 49/50 | Time: 57.4s | Train Acc: 94.57% | Test Acc: 77.22% | Best Acc: 77.52%\n"
          ]
        },
        {
          "output_type": "stream",
          "name": "stderr",
          "text": [
            "Training: 100%|██████████| 782/782 [00:51<00:00, 15.08it/s, Loss=0.156, Acc=94.6, LR=1.18e-6]\n",
            "Testing: 100%|██████████| 157/157 [00:04<00:00, 36.68it/s, Loss=0.949, Acc=77.2]\n"
          ]
        },
        {
          "output_type": "stream",
          "name": "stdout",
          "text": [
            "Epoch 50/50 | Time: 56.1s | Train Acc: 94.62% | Test Acc: 77.19% | Best Acc: 77.52%\n"
          ]
        }
      ]
    },
    {
      "cell_type": "code",
      "source": [
        "plt.figure(figsize=(12, 4))\n",
        "plt.subplot(1, 2, 1)\n",
        "plt.plot(history['train_acc'], label='train accuracy')\n",
        "plt.plot(history['test_acc'], label='test accuracy')\n",
        "plt.xlabel('epoch')\n",
        "plt.ylabel('accuracy (%)')\n",
        "plt.title('training & test accuracy')\n",
        "plt.legend()\n",
        "plt.grid(True)\n",
        "\n",
        "plt.subplot(1, 2, 2)\n",
        "plt.plot(history['train_loss'], label='train loss')\n",
        "plt.plot(history['test_loss'], label='test loss')\n",
        "plt.xlabel('epoch')\n",
        "plt.ylabel('loss')\n",
        "plt.title('training and test loss')\n",
        "plt.legend()\n",
        "plt.grid(True)\n",
        "\n",
        "plt.tight_layout()\n",
        "plt.savefig(os.path.join(PROJECT_PATH, 'training_history.png'))\n",
        "plt.show()"
      ],
      "metadata": {
        "colab": {
          "base_uri": "https://localhost:8080/",
          "height": 396
        },
        "id": "W1siPRI00yhs",
        "outputId": "011cf439-f344-4e3e-a7d8-98070b688ea0"
      },
      "execution_count": 14,
      "outputs": [
        {
          "output_type": "display_data",
          "data": {
            "text/plain": [
              "<Figure size 1200x400 with 2 Axes>"
            ],
            "image/png": "[encoded data removed]"
          },
          "metadata": {}
        }
      ]
    }
  ]
}